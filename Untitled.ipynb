{
 "cells": [
  {
   "cell_type": "code",
   "execution_count": 2,
   "metadata": {},
   "outputs": [
    {
     "name": "stdout",
     "output_type": "stream",
     "text": [
      "choose an option:1\n",
      "1.add\n",
      "2.sub\n",
      "3.mod division\n",
      "4.power\n",
      "5.floor division\n",
      "6.muliplication\n",
      "7.division\n",
      "Enter a number:2\n",
      "Enter a number:3\n",
      "5\n",
      "0.6666666666666666\n"
     ]
    }
   ],
   "source": [
    "def arithmetic_operations():\n",
    "    c=int(input('choose an option:'))\n",
    "    print(\"1.add\")\n",
    "    print(\"2.sub\")\n",
    "    print(\"3.mod division\")\n",
    "    print(\"4.power\") \n",
    "    print(\"5.floor division\")\n",
    "    print(\"6.muliplication\")\n",
    "    print(\"7.division\")\n",
    "    a=int(input(\"Enter a number:\"))\n",
    "    b=int(input(\"Enter a number:\")) \n",
    "    if c==1:\n",
    "        print(a+b)\n",
    "    if c==2:  \n",
    "         print(a-b)\n",
    "    if c==3:\n",
    "         print(a%b)\n",
    "    if c==4:\n",
    "        print(a**b)\n",
    "    if c==5:\n",
    "        print(a//b)\n",
    "    if c==6:\n",
    "        print(a*b)\n",
    "    else:\n",
    "        print(a/b)\n",
    "arithmetic_operations()"
   ]
  },
  {
   "cell_type": "code",
   "execution_count": null,
   "metadata": {},
   "outputs": [],
   "source": []
  },
  {
   "cell_type": "code",
   "execution_count": null,
   "metadata": {},
   "outputs": [],
   "source": []
  }
 ],
 "metadata": {
  "kernelspec": {
   "display_name": "Python 3",
   "language": "python",
   "name": "python3"
  },
  "language_info": {
   "codemirror_mode": {
    "name": "ipython",
    "version": 3
   },
   "file_extension": ".py",
   "mimetype": "text/x-python",
   "name": "python",
   "nbconvert_exporter": "python",
   "pygments_lexer": "ipython3",
   "version": "3.7.3"
  }
 },
 "nbformat": 4,
 "nbformat_minor": 2
}
