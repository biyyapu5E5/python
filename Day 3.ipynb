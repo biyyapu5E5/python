{
 "cells": [
  {
   "cell_type": "code",
   "execution_count": null,
   "metadata": {},
   "outputs": [],
   "source": [
    "n=int(input(\"Enter a number:\"))\n",
    "i=1\n",
    "while i<=n:\n",
    "    if i%2==0:\n",
    "        print(i,\"even\")\n",
    "    i+=1\n",
    "\n",
    "         "
   ]
  },
  {
   "cell_type": "code",
   "execution_count": null,
   "metadata": {},
   "outputs": [],
   "source": [
    "# Jumping statements break,continue,pass\n",
    "n=\"pace Institute of college\"\n",
    "for i in n:\n",
    "    print(i)\n",
    "    if(i ==\"o\"):\n",
    "        break"
   ]
  },
  {
   "cell_type": "code",
   "execution_count": null,
   "metadata": {},
   "outputs": [],
   "source": [
    "n=\"pace\"\n",
    "for i in n:\n",
    "    print(i)\n",
    "    if(i ==\"c\"):\n",
    "        continue\n",
    "        "
   ]
  },
  {
   "cell_type": "code",
   "execution_count": null,
   "metadata": {},
   "outputs": [],
   "source": [
    "def name:\n",
    "    pass\n"
   ]
  },
  {
   "cell_type": "code",
   "execution_count": null,
   "metadata": {},
   "outputs": [],
   "source": [
    "# FUNCTIONS ARE 3 TYPES\n",
    "# Predefined\n",
    " \\input,print,type,ord,bin,sum,max,min,round,chr,sorted,len"
   ]
  },
  {
   "cell_type": "code",
   "execution_count": null,
   "metadata": {},
   "outputs": [],
   "source": [
    "a=\"Python Workshop\"\n",
    "b=[1,7,8]\n",
    "c=\" \"\n",
    "len(a)\n",
    "type(a)\n",
    "bin(2)\n",
    "ord(\"f\")\n",
    "sum(b)\n",
    "max(a)\n",
    "min(a)\n",
    "round(10.5)\n",
    "sorted(a)\n",
    "all(c)\n",
    "any(c)\n",
    "abs(-1)\n",
    "pow(10,2)"
   ]
  },
  {
   "cell_type": "code",
   "execution_count": 12,
   "metadata": {},
   "outputs": [
    {
     "name": "stdout",
     "output_type": "stream",
     "text": [
      "Enter any kind of data:Asd\n",
      "Asd alphabet\n"
     ]
    }
   ],
   "source": [
    "data=str(input(\"Enter any kind of data:\"))\n",
    "if data>=\"a\" and data<=\"z\" or data>=\"A\" and data<=\"Z\":\n",
    "    print(data,\"alphabet\")\n",
    "elif data>=\"0\" and data<=\"9\":\n",
    "    print(data,\"digit\")\n",
    "else:\n",
    "    print(data,\"special character\")"
   ]
  },
  {
   "cell_type": "code",
   "execution_count": 13,
   "metadata": {},
   "outputs": [
    {
     "name": "stdout",
     "output_type": "stream",
     "text": [
      "Enter username:padmini\n",
      "Enter passname:········\n",
      "Welcome padmini\n"
     ]
    }
   ],
   "source": [
    "from getpass import getpass \n",
    "username=input(\"Enter username:\")\n",
    "password=getpass(\"Enter passname:\")\n",
    "if username==\"padmini\" and password==\"padmini1763\":\n",
    "    print(\"Welcome\",username)\n",
    "else:\n",
    "    print(\"invalid username or password\")"
   ]
  },
  {
   "cell_type": "code",
   "execution_count": null,
   "metadata": {},
   "outputs": [],
   "source": []
  }
 ],
 "metadata": {
  "kernelspec": {
   "display_name": "Python 3",
   "language": "python",
   "name": "python3"
  },
  "language_info": {
   "codemirror_mode": {
    "name": "ipython",
    "version": 3
   },
   "file_extension": ".py",
   "mimetype": "text/x-python",
   "name": "python",
   "nbconvert_exporter": "python",
   "pygments_lexer": "ipython3",
   "version": "3.7.3"
  }
 },
 "nbformat": 4,
 "nbformat_minor": 2
}
